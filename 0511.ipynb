{
  "nbformat": 4,
  "nbformat_minor": 0,
  "metadata": {
    "colab": {
      "name": "0511.ipynb",
      "provenance": [],
      "authorship_tag": "ABX9TyO0fxDVcYwFxpzLEehPMDYY",
      "include_colab_link": true
    },
    "kernelspec": {
      "name": "python3",
      "display_name": "Python 3"
    },
    "language_info": {
      "name": "python"
    }
  },
  "cells": [
    {
      "cell_type": "markdown",
      "metadata": {
        "id": "view-in-github",
        "colab_type": "text"
      },
      "source": [
        "<a href=\"https://colab.research.google.com/github/tarooo228/Introduction-to-Computers/blob/main/0511.ipynb\" target=\"_parent\"><img src=\"https://colab.research.google.com/assets/colab-badge.svg\" alt=\"Open In Colab\"/></a>"
      ]
    },
    {
      "cell_type": "code",
      "execution_count": 1,
      "metadata": {
        "colab": {
          "base_uri": "https://localhost:8080/"
        },
        "id": "lhffe5j41p4S",
        "outputId": "251a0b5e-5b6b-4520-d5ec-50c3dcae2d6d"
      },
      "outputs": [
        {
          "output_type": "stream",
          "name": "stdout",
          "text": [
            "test\n"
          ]
        }
      ],
      "source": [
        "print('test')"
      ]
    },
    {
      "cell_type": "code",
      "source": [
        "temp=float(input(\"請輸入你的體溫\"))\n",
        "if temp>=37.5:\n",
        "  print(\"體溫過高！\")\n",
        "elif temp>=37 and temp<37.4:\n",
        "  print(\"體溫略高！\")\n",
        "elif temp>=34 and temp<36.9:\n",
        "  print(\"體溫正常！\")\n",
        "else:\n",
        "  print(\"體溫異常，請重新量測！\")"
      ],
      "metadata": {
        "colab": {
          "base_uri": "https://localhost:8080/"
        },
        "id": "fKoYUbCL2oPP",
        "outputId": "9eef4ede-dc88-4866-d242-76788319a388"
      },
      "execution_count": 2,
      "outputs": [
        {
          "output_type": "stream",
          "name": "stdout",
          "text": [
            "請輸入你的體溫37.5\n",
            "體溫過高！\n"
          ]
        }
      ]
    },
    {
      "cell_type": "code",
      "source": [
        "money=int(input(\"請輸入購物金額：\"))\n",
        "if (money>=10000):\n",
        "  if(money>=100000):\n",
        "    print(\"八折\",money*0.8,end=\"元\\n\")\n",
        "else:\n",
        "  print(\"沒打折\",money,end=\"元\\n\")"
      ],
      "metadata": {
        "colab": {
          "base_uri": "https://localhost:8080/"
        },
        "id": "dN2-9N8K3kKm",
        "outputId": "f720ae87-e465-419c-dfd0-6115d224ec56"
      },
      "execution_count": 3,
      "outputs": [
        {
          "output_type": "stream",
          "name": "stdout",
          "text": [
            "請輸入購物金額：9000\n",
            "沒打折 9000元\n"
          ]
        }
      ]
    },
    {
      "cell_type": "code",
      "source": [
        "money=int(input(\"請輸入購物金額：\"))\n",
        "if (money>=10000):\n",
        "  if(money>=100000):\n",
        "    print(\"八折\",money*0.8,end=\"元\\n\")\n",
        "  elif(money>=50000):\n",
        "    print(\"八五折\",money*0.85,end=\"元\\n\")\n",
        "  elif(money>=30000):\n",
        "    print(\"九折\",money*0.9,end=\"元\\n\")\n",
        "  else:\n",
        "    print(\"九五折\",money*0.95,end=\"元\\n\")\n",
        "else:\n",
        "  print(\"沒打折\",money,end=\"元\\n\")"
      ],
      "metadata": {
        "colab": {
          "base_uri": "https://localhost:8080/"
        },
        "id": "szXbSSqo4htq",
        "outputId": "e4a74fe8-059c-4fde-cfa8-eb65c02deeb9"
      },
      "execution_count": 4,
      "outputs": [
        {
          "output_type": "stream",
          "name": "stdout",
          "text": [
            "請輸入購物金額：50000\n",
            "八五折 42500.0元\n"
          ]
        }
      ]
    },
    {
      "cell_type": "code",
      "source": [
        "score=int(input(\"請輸入成績\"))\n",
        "if score>=90:\n",
        "  print(\"A\")\n",
        "elif score>=80 and score<=89:\n",
        "  print(\"B\")\n",
        "elif score>=70 and score<=79:\n",
        "  print(\"C\")\n",
        "elif score>=60 and score<=69:\n",
        "  print(\"D\")\n",
        "else:\n",
        "  print(\"E\")"
      ],
      "metadata": {
        "colab": {
          "base_uri": "https://localhost:8080/"
        },
        "id": "14kGWzLd6oJ8",
        "outputId": "28101a47-e00d-4596-9d38-54e8492139b0"
      },
      "execution_count": 10,
      "outputs": [
        {
          "output_type": "stream",
          "name": "stdout",
          "text": [
            "請輸入成績59\n",
            "E\n"
          ]
        }
      ]
    },
    {
      "cell_type": "code",
      "source": [
        "month=int(input(\"請輸入月份\"))\n",
        "if month >= 3 and month <= 5:\n",
        "  print(month,\"月是春天！\")\n",
        "elif month >= 6 and month <= 8:\n",
        "  print(month,\"月是夏天！\")\n",
        "elif month >= 9 and month <= 11:\n",
        "  print(month,\"月是秋天！\")\n",
        "elif month ==12 or month == 1 or month == 2 :\n",
        "  print(month,\"月是冬天！\")\n",
        "else:\n",
        "  print(\"月份不在範圍內！\")"
      ],
      "metadata": {
        "colab": {
          "base_uri": "https://localhost:8080/"
        },
        "id": "RIL23MRk8FNH",
        "outputId": "e73da695-a638-4e5f-91b6-1ee767a9ed01"
      },
      "execution_count": 12,
      "outputs": [
        {
          "output_type": "stream",
          "name": "stdout",
          "text": [
            "請輸入月份4\n",
            "4 月是春天！\n"
          ]
        }
      ]
    },
    {
      "cell_type": "code",
      "source": [
        "money=int(input(\"請輸入今年收入淨額：\"))\n",
        "if(money>=2000000):\n",
        "    print(\"付稅金額：\",money*0.3,end=\"元\\n\")\n",
        "elif(money>=1000000):\n",
        "    print(\"付稅金額：\",money*0.21,end=\"元\\n\")\n",
        "elif(money>=600000):\n",
        "    print(\"付稅金額：\",money*0.13,end=\"元\\n\")\n",
        "elif(money>=300000):\n",
        "    print(\"付稅金額：\",money*0.06,end=\"元\\n\")\n",
        "else:\n",
        "  print(\"付稅金額：0元\")"
      ],
      "metadata": {
        "colab": {
          "base_uri": "https://localhost:8080/"
        },
        "id": "ON4SagUO_rwD",
        "outputId": "e1ab45b9-66fd-44c7-c288-7d411ba8de8a"
      },
      "execution_count": 13,
      "outputs": [
        {
          "output_type": "stream",
          "name": "stdout",
          "text": [
            "請輸入今年收入淨額：100000\n",
            "付稅金額：0元\n"
          ]
        }
      ]
    },
    {
      "cell_type": "code",
      "source": [
        "money=int(input(\"請輸入今年收入淨額：\"))\n",
        "if(money>=2000000):\n",
        "    print(\"付稅金額：\",money*0.3,end=\"元\\n\")\n",
        "elif(money>=1000000):\n",
        "    print(\"付稅金額：\",money*0.21,end=\"元\\n\")\n",
        "elif(money>=600000):\n",
        "    print(\"付稅金額：\",money*0.13,end=\"元\\n\")\n",
        "elif(money>=300000):\n",
        "    print(\"付稅金額：\",money*0.06,end=\"元\\n\")\n",
        "else:\n",
        "  print(\"付稅金額：0元\")"
      ],
      "metadata": {
        "colab": {
          "base_uri": "https://localhost:8080/"
        },
        "id": "Kyt8S7FEBIe3",
        "outputId": "d21aa972-bb1f-4540-d7e9-c171a5255cf4"
      },
      "execution_count": 14,
      "outputs": [
        {
          "output_type": "stream",
          "name": "stdout",
          "text": [
            "請輸入今年收入淨額：2000000\n",
            "付稅金額： 600000.0元\n"
          ]
        }
      ]
    }
  ]
}