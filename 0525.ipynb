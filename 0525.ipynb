{
  "nbformat": 4,
  "nbformat_minor": 0,
  "metadata": {
    "colab": {
      "name": "0525.ipynb",
      "provenance": [],
      "authorship_tag": "ABX9TyO+aXgyOLJ1oPoB33ItNlFs",
      "include_colab_link": true
    },
    "kernelspec": {
      "name": "python3",
      "display_name": "Python 3"
    },
    "language_info": {
      "name": "python"
    }
  },
  "cells": [
    {
      "cell_type": "markdown",
      "metadata": {
        "id": "view-in-github",
        "colab_type": "text"
      },
      "source": [
        "<a href=\"https://colab.research.google.com/github/tarooo228/Introduction-to-Computers/blob/main/0525.ipynb\" target=\"_parent\"><img src=\"https://colab.research.google.com/assets/colab-badge.svg\" alt=\"Open In Colab\"/></a>"
      ]
    },
    {
      "cell_type": "code",
      "execution_count": null,
      "metadata": {
        "colab": {
          "base_uri": "https://localhost:8080/"
        },
        "id": "TzJzE_ARjn2b",
        "outputId": "4763c732-2225-4ead-b87f-00e2b3ce0606"
      },
      "outputs": [
        {
          "output_type": "stream",
          "name": "stdout",
          "text": [
            "請輸入一個正整數：50\n",
            "1到 50 的整數和為 1275\n"
          ]
        }
      ],
      "source": [
        "sum=0\n",
        "test=int(input(\"請輸入一個正整數：\"))\n",
        "for n in range(1,test+1):\n",
        "  sum=sum+n\n",
        "print(\"1到\",test,\"的整數和為\",sum)"
      ]
    },
    {
      "cell_type": "code",
      "source": [
        "sum=0\n",
        "test=int(input(\"請輸入一個正整數：\"))\n",
        "for m in range(1,test+1):\n",
        "  sum=sum+m\n",
        "  print(\"1到\"+str(m)+\"的整數和為\",sum)"
      ],
      "metadata": {
        "colab": {
          "base_uri": "https://localhost:8080/"
        },
        "id": "7EfhjkqImoRD",
        "outputId": "ec400cd6-8535-4a2b-9133-ba2192d87127"
      },
      "execution_count": null,
      "outputs": [
        {
          "output_type": "stream",
          "name": "stdout",
          "text": [
            "請輸入一個正整數：50\n",
            "1到1的整數和為 1\n",
            "1到2的整數和為 3\n",
            "1到3的整數和為 6\n",
            "1到4的整數和為 10\n",
            "1到5的整數和為 15\n",
            "1到6的整數和為 21\n",
            "1到7的整數和為 28\n",
            "1到8的整數和為 36\n",
            "1到9的整數和為 45\n",
            "1到10的整數和為 55\n",
            "1到11的整數和為 66\n",
            "1到12的整數和為 78\n",
            "1到13的整數和為 91\n",
            "1到14的整數和為 105\n",
            "1到15的整數和為 120\n",
            "1到16的整數和為 136\n",
            "1到17的整數和為 153\n",
            "1到18的整數和為 171\n",
            "1到19的整數和為 190\n",
            "1到20的整數和為 210\n",
            "1到21的整數和為 231\n",
            "1到22的整數和為 253\n",
            "1到23的整數和為 276\n",
            "1到24的整數和為 300\n",
            "1到25的整數和為 325\n",
            "1到26的整數和為 351\n",
            "1到27的整數和為 378\n",
            "1到28的整數和為 406\n",
            "1到29的整數和為 435\n",
            "1到30的整數和為 465\n",
            "1到31的整數和為 496\n",
            "1到32的整數和為 528\n",
            "1到33的整數和為 561\n",
            "1到34的整數和為 595\n",
            "1到35的整數和為 630\n",
            "1到36的整數和為 666\n",
            "1到37的整數和為 703\n",
            "1到38的整數和為 741\n",
            "1到39的整數和為 780\n",
            "1到40的整數和為 820\n",
            "1到41的整數和為 861\n",
            "1到42的整數和為 903\n",
            "1到43的整數和為 946\n",
            "1到44的整數和為 990\n",
            "1到45的整數和為 1035\n",
            "1到46的整數和為 1081\n",
            "1到47的整數和為 1128\n",
            "1到48的整數和為 1176\n",
            "1到49的整數和為 1225\n",
            "1到50的整數和為 1275\n"
          ]
        }
      ]
    },
    {
      "cell_type": "code",
      "source": [
        "for j in range(1,5):\n",
        "  print(j)\n",
        "  for i in range(1,3):\n",
        "    k=i*j\n",
        "    print(j,\"*\",i,\"=\",k)"
      ],
      "metadata": {
        "colab": {
          "base_uri": "https://localhost:8080/"
        },
        "id": "2NT9cz3gm-jE",
        "outputId": "954edaa1-466f-4b8c-be6a-27e7341ffbcb"
      },
      "execution_count": null,
      "outputs": [
        {
          "output_type": "stream",
          "name": "stdout",
          "text": [
            "1\n",
            "1 * 1 = 1\n",
            "1 * 2 = 2\n",
            "2\n",
            "2 * 1 = 2\n",
            "2 * 2 = 4\n",
            "3\n",
            "3 * 1 = 3\n",
            "3 * 2 = 6\n",
            "4\n",
            "4 * 1 = 4\n",
            "4 * 2 = 8\n"
          ]
        }
      ]
    },
    {
      "cell_type": "code",
      "source": [
        "for j in range(1,6):\n",
        "  print(j)\n",
        "  for i in range(1,3):\n",
        "    k=i*j\n",
        "    print(j,\"*\",i,\"=\",k)"
      ],
      "metadata": {
        "colab": {
          "base_uri": "https://localhost:8080/"
        },
        "id": "jGWve4HYoPyq",
        "outputId": "77ac9e82-fad9-4ee5-9ff8-d2d8951e8726"
      },
      "execution_count": null,
      "outputs": [
        {
          "output_type": "stream",
          "name": "stdout",
          "text": [
            "1\n",
            "1 * 1 = 1\n",
            "1 * 2 = 2\n",
            "2\n",
            "2 * 1 = 2\n",
            "2 * 2 = 4\n",
            "3\n",
            "3 * 1 = 3\n",
            "3 * 2 = 6\n",
            "4\n",
            "4 * 1 = 4\n",
            "4 * 2 = 8\n",
            "5\n",
            "5 * 1 = 5\n",
            "5 * 2 = 10\n"
          ]
        }
      ]
    },
    {
      "cell_type": "code",
      "source": [
        "for i in range(1,5):\n",
        "  if(i==4):\n",
        "    break\n",
        "  print(i,end=\" \")"
      ],
      "metadata": {
        "colab": {
          "base_uri": "https://localhost:8080/"
        },
        "id": "-FTW8w9dpXFL",
        "outputId": "bf2578f8-ce70-4a9e-dd82-96ebe527deba"
      },
      "execution_count": null,
      "outputs": [
        {
          "output_type": "stream",
          "name": "stdout",
          "text": [
            "1 2 3 "
          ]
        }
      ]
    },
    {
      "cell_type": "code",
      "source": [
        "for i in range(1,5):\n",
        "  if(i==4):\n",
        "    continue\n",
        "  print(i,end=\" \")"
      ],
      "metadata": {
        "colab": {
          "base_uri": "https://localhost:8080/"
        },
        "id": "cLMmAqxxqQBp",
        "outputId": "8b2c858d-c7f5-4924-e3f4-0ae5f8d7defc"
      },
      "execution_count": 3,
      "outputs": [
        {
          "output_type": "stream",
          "name": "stdout",
          "text": [
            "1 2 3 "
          ]
        }
      ]
    },
    {
      "cell_type": "code",
      "source": [
        "count=0\n",
        "for string in \"hello\":\n",
        "  count+=1\n",
        "  if string == 'o':\n",
        "    break\n",
        "  print(string)\n",
        "print(\"迴圈結束\")\n",
        "print(\"迴圈執行了 %d 次\" %count)"
      ],
      "metadata": {
        "colab": {
          "base_uri": "https://localhost:8080/"
        },
        "id": "e-x_yFFmp95-",
        "outputId": "fdc1889e-9a31-472c-8bd1-9b0b0413bb86"
      },
      "execution_count": null,
      "outputs": [
        {
          "output_type": "stream",
          "name": "stdout",
          "text": [
            "h\n",
            "e\n",
            "l\n",
            "l\n",
            "迴圈結束\n",
            "迴圈執行了 5 次\n"
          ]
        }
      ]
    },
    {
      "cell_type": "code",
      "source": [
        "count=0\n",
        "for string in \"測試看看\":\n",
        "  count+=1\n",
        "  if string == '看':\n",
        "    break\n",
        "  print(string)\n",
        "print(\"迴圈結束\")\n",
        "print(\"迴圈執行了 %d 次\" %count)"
      ],
      "metadata": {
        "colab": {
          "base_uri": "https://localhost:8080/"
        },
        "id": "Ofqi9YNcovI8",
        "outputId": "bdcc482f-6cf9-442c-e86e-28041b7c58d9"
      },
      "execution_count": 5,
      "outputs": [
        {
          "output_type": "stream",
          "name": "stdout",
          "text": [
            "測\n",
            "試\n",
            "迴圈結束\n",
            "迴圈執行了 3 次\n"
          ]
        }
      ]
    },
    {
      "cell_type": "code",
      "source": [
        "for r in range(2,10):\n",
        "  for p in range(1,10):\n",
        "    k=p*r\n",
        "    print(r,\"*\",p,\"=\",k,\"\\t\",end=\" \")\n",
        "  print(\" \")"
      ],
      "metadata": {
        "id": "k56yP1t7rERM",
        "colab": {
          "base_uri": "https://localhost:8080/"
        },
        "outputId": "73695569-d330-4507-9f21-273e6f5fbfa3"
      },
      "execution_count": 6,
      "outputs": [
        {
          "output_type": "stream",
          "name": "stdout",
          "text": [
            "2 * 1 = 2 \t 2 * 2 = 4 \t 2 * 3 = 6 \t 2 * 4 = 8 \t 2 * 5 = 10 \t 2 * 6 = 12 \t 2 * 7 = 14 \t 2 * 8 = 16 \t 2 * 9 = 18 \t  \n",
            "3 * 1 = 3 \t 3 * 2 = 6 \t 3 * 3 = 9 \t 3 * 4 = 12 \t 3 * 5 = 15 \t 3 * 6 = 18 \t 3 * 7 = 21 \t 3 * 8 = 24 \t 3 * 9 = 27 \t  \n",
            "4 * 1 = 4 \t 4 * 2 = 8 \t 4 * 3 = 12 \t 4 * 4 = 16 \t 4 * 5 = 20 \t 4 * 6 = 24 \t 4 * 7 = 28 \t 4 * 8 = 32 \t 4 * 9 = 36 \t  \n",
            "5 * 1 = 5 \t 5 * 2 = 10 \t 5 * 3 = 15 \t 5 * 4 = 20 \t 5 * 5 = 25 \t 5 * 6 = 30 \t 5 * 7 = 35 \t 5 * 8 = 40 \t 5 * 9 = 45 \t  \n",
            "6 * 1 = 6 \t 6 * 2 = 12 \t 6 * 3 = 18 \t 6 * 4 = 24 \t 6 * 5 = 30 \t 6 * 6 = 36 \t 6 * 7 = 42 \t 6 * 8 = 48 \t 6 * 9 = 54 \t  \n",
            "7 * 1 = 7 \t 7 * 2 = 14 \t 7 * 3 = 21 \t 7 * 4 = 28 \t 7 * 5 = 35 \t 7 * 6 = 42 \t 7 * 7 = 49 \t 7 * 8 = 56 \t 7 * 9 = 63 \t  \n",
            "8 * 1 = 8 \t 8 * 2 = 16 \t 8 * 3 = 24 \t 8 * 4 = 32 \t 8 * 5 = 40 \t 8 * 6 = 48 \t 8 * 7 = 56 \t 8 * 8 = 64 \t 8 * 9 = 72 \t  \n",
            "9 * 1 = 9 \t 9 * 2 = 18 \t 9 * 3 = 27 \t 9 * 4 = 36 \t 9 * 5 = 45 \t 9 * 6 = 54 \t 9 * 7 = 63 \t 9 * 8 = 72 \t 9 * 9 = 81 \t  \n"
          ]
        }
      ]
    },
    {
      "cell_type": "code",
      "source": [
        "a=int(input(\"請輸入a的值：\"))\n",
        "b=int(input(\"請輸入b的值：\"))\n",
        "for i in range(1,(a*b)+1):\n",
        "  if(i%a==0 and i%b==0):\n",
        "    break\n",
        "print(a,\"和\",b,\"的最小公倍數=\",i)"
      ],
      "metadata": {
        "id": "OQkLeLR3GQdG",
        "colab": {
          "base_uri": "https://localhost:8080/"
        },
        "outputId": "6b9d1c8e-f43e-456c-f872-e1954addc579"
      },
      "execution_count": 7,
      "outputs": [
        {
          "output_type": "stream",
          "name": "stdout",
          "text": [
            "請輸入a的值：4\n",
            "請輸入b的值：6\n",
            "4 和 6 的最小公倍數= 12\n"
          ]
        }
      ]
    },
    {
      "cell_type": "code",
      "source": [
        "a=int(input(\"請輸入a的值：\"))\n",
        "b=int(input(\"請輸入b的值：\"))\n",
        "for i in range(1,(a*b)+1):\n",
        "  if(i%a==0 and i%b==0):\n",
        "    break\n",
        "print(a,\"和\",b,\"的最小公倍數=\",i)"
      ],
      "metadata": {
        "colab": {
          "base_uri": "https://localhost:8080/"
        },
        "id": "l6oJq9Zrr8uj",
        "outputId": "ee0ca7eb-cd2f-435e-d4fb-24b3837f5605"
      },
      "execution_count": 8,
      "outputs": [
        {
          "output_type": "stream",
          "name": "stdout",
          "text": [
            "請輸入a的值：9\n",
            "請輸入b的值：15\n",
            "9 和 15 的最小公倍數= 45\n"
          ]
        }
      ]
    },
    {
      "cell_type": "code",
      "source": [
        "a=int(input(\"請輸入正整數：\"))\n",
        "for i in range(1,a+1):\n",
        "  if(i%5==0):\n",
        "    continue\n",
        "  print(i,end=\" \")"
      ],
      "metadata": {
        "colab": {
          "base_uri": "https://localhost:8080/"
        },
        "id": "lsBGU9Z8sDPZ",
        "outputId": "61788267-1ebb-4f39-9487-36b08d294df9"
      },
      "execution_count": 11,
      "outputs": [
        {
          "output_type": "stream",
          "name": "stdout",
          "text": [
            "請輸入正整數：12\n",
            "1 2 3 4 6 7 8 9 11 12 "
          ]
        }
      ]
    },
    {
      "cell_type": "code",
      "source": [
        "a=int(input(\"請輸入正整數：\"))\n",
        "for i in range(1,a+1):\n",
        "  if(i%5==0):\n",
        "    continue\n",
        "  print(i,end=\" \")"
      ],
      "metadata": {
        "colab": {
          "base_uri": "https://localhost:8080/"
        },
        "id": "o7HtWUlTshdV",
        "outputId": "8023252d-5af7-4fac-c08a-4efeb1693651"
      },
      "execution_count": 12,
      "outputs": [
        {
          "output_type": "stream",
          "name": "stdout",
          "text": [
            "請輸入正整數：21\n",
            "1 2 3 4 6 7 8 9 11 12 13 14 16 17 18 19 21 "
          ]
        }
      ]
    }
  ]
}